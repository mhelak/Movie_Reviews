{
 "cells": [
  {
   "cell_type": "markdown",
   "metadata": {},
   "source": [
    "Monika Helak\n",
    "\n",
    "# <h1><center> Movie Reviews Sentiment Analysis </center></h1>\n",
    "\n",
    "\n",
    "\n",
    "\n"
   ]
  },
  {
   "cell_type": "markdown",
   "metadata": {},
   "source": [
    "Deriving meaning from text is highly in demand across disciplines in data science. Sentiment Analysis is one common application of NLP. This project served as an exercise to practice NLP concepts and test out the performance of different models on text data.\n",
    "\n",
    "The objective of the project was to build a classification model that is able to classify IMDB movie reviews as positive or negative based on their text descriptions. The project was inspired by a former Kaggle competition. The data can be found here: http://ai.stanford.edu/~amaas/data/sentiment/\\\n",
    "\n",
    "I created a model that can accurately predict a binary outcome for both types of reviews with equal importance. The steps to build the model included exploratory data analysis, statistical testing, building three different models, and evaluating the performance of my models by looking at assumptions, advantages and disadvantages as well as their F1 score. "
   ]
  },
  {
   "cell_type": "code",
   "execution_count": 4,
   "metadata": {},
   "outputs": [],
   "source": [
    "import os\n",
    "import numpy as np\n",
    "import pandas as pd\n",
    "import re\n",
    "import matplotlib.pyplot as plt\n",
    "import time"
   ]
  },
  {
   "cell_type": "markdown",
   "metadata": {},
   "source": [
    "## Loading the Data"
   ]
  },
  {
   "cell_type": "markdown",
   "metadata": {},
   "source": [
    "First, we need to load the data. The data is stored in two separate folders, each of which contains the test and train set."
   ]
  },
  {
   "cell_type": "code",
   "execution_count": 5,
   "metadata": {},
   "outputs": [],
   "source": [
    "def load_train_test_imdb_data(data_dir):\n",
    "    \"\"\"Loads the IMDB train/test datasets from a folder path.\n",
    "    Input:\n",
    "    data_dir: path to the \"aclImdb\" folder.\n",
    "    \n",
    "    Returns:\n",
    "    train/test datasets as pandas dataframes.\n",
    "    \"\"\"\n",
    "\n",
    "    data = {}\n",
    "    for split in [\"train\", \"test\"]:\n",
    "        data[split] = []\n",
    "        for sentiment in [\"neg\", \"pos\"]:\n",
    "            score = 1 if sentiment == \"pos\" else 0\n",
    "\n",
    "            path = os.path.join(data_dir, split, sentiment)\n",
    "            file_names = os.listdir(path)\n",
    "            for f_name in file_names:\n",
    "                with open(os.path.join(path, f_name), \"r\", encoding=\"utf-8\") as f:\n",
    "                    review = f.read()\n",
    "                    data[split].append([review, score])\n",
    "\n",
    "    np.random.shuffle(data[\"train\"])        \n",
    "    data[\"train\"] = pd.DataFrame(data[\"train\"],\n",
    "                                 columns=['text', 'sentiment'])\n",
    "\n",
    "    np.random.shuffle(data[\"test\"])\n",
    "    data[\"test\"] = pd.DataFrame(data[\"test\"],\n",
    "                                columns=['text', 'sentiment'])\n",
    "\n",
    "    return data[\"train\"], data[\"test\"]"
   ]
  },
  {
   "cell_type": "code",
   "execution_count": 6,
   "metadata": {},
   "outputs": [],
   "source": [
    "train_data, test_data = load_train_test_imdb_data(\n",
    "    data_dir=\"aclImdb/\")"
   ]
  },
  {
   "cell_type": "markdown",
   "metadata": {},
   "source": [
    "The length of both the train_data and test_data is the same."
   ]
  },
  {
   "cell_type": "code",
   "execution_count": 7,
   "metadata": {},
   "outputs": [
    {
     "name": "stdout",
     "output_type": "stream",
     "text": [
      "25000\n",
      "25000\n"
     ]
    }
   ],
   "source": [
    "print(len(train_data))\n",
    "print(len(test_data))"
   ]
  },
  {
   "cell_type": "code",
   "execution_count": 8,
   "metadata": {},
   "outputs": [],
   "source": [
    "frames = [train_data, test_data]\n",
    "\n",
    "df = pd.concat(frames, ignore_index = True)"
   ]
  },
  {
   "cell_type": "markdown",
   "metadata": {},
   "source": [
    "The two dataframes are now both in one single dataframe. I'll do a 75/25 train test split when ready to train the models later."
   ]
  },
  {
   "cell_type": "code",
   "execution_count": 9,
   "metadata": {},
   "outputs": [
    {
     "data": {
      "text/plain": [
       "(50000, 2)"
      ]
     },
     "execution_count": 9,
     "metadata": {},
     "output_type": "execute_result"
    }
   ],
   "source": [
    "df.shape"
   ]
  },
  {
   "cell_type": "markdown",
   "metadata": {},
   "source": [
    "## Preprocessing\n",
    "\n",
    "The possibilities are endless when it comes to preprocessing text data. However, the key steps remain the same. Some high-yield data cleaning steps to ensure good model performance include conversion of all text to lowercase as well as removal of extraneous symbols and punctuation."
   ]
  },
  {
   "cell_type": "code",
   "execution_count": 10,
   "metadata": {},
   "outputs": [],
   "source": [
    "def preprocess(text):\n",
    "    # everything to lowercase\n",
    "    # replacing breaks with spaces\n",
    "    # remove punctuation\n",
    "     \n",
    "    text = text.lower()\n",
    "    text = text.replace('<br />', '')\n",
    "    text = re.sub(r'[^\\w\\s]','', text)\n",
    "\n",
    "    return  text"
   ]
  },
  {
   "cell_type": "code",
   "execution_count": 11,
   "metadata": {},
   "outputs": [],
   "source": [
    "df['text'] = df['text'].apply(preprocess)"
   ]
  },
  {
   "cell_type": "markdown",
   "metadata": {},
   "source": [
    "## Stemming\n",
    "\n",
    "An easy way to reduce the dimensions of the dataset is to reduce the number of distinct words that the model takes into account by shortening each word to include only its stem, and ignoring any subsequent tenses or conjugations. The objective here is to shorten the word to only include the root word. There are two main simple stemmers available in NLTK, the simplest of which is PorterStemmer. Applying the stemmer to my text data will greatly reduce the number of distinct words that the model will be considering."
   ]
  },
  {
   "cell_type": "code",
   "execution_count": 12,
   "metadata": {},
   "outputs": [],
   "source": [
    "from nltk.stem.porter import PorterStemmer\n",
    "porter = PorterStemmer()\n",
    "\n",
    "from nltk.tokenize import sent_tokenize, word_tokenize\n",
    "def stemSentence(sentence):\n",
    "    token_words=word_tokenize(sentence)\n",
    "    token_words\n",
    "    stem_sentence=[]\n",
    "    for word in token_words:\n",
    "        stem_sentence.append(porter.stem(word))\n",
    "        stem_sentence.append(\" \")\n",
    "    return \"\".join(stem_sentence)"
   ]
  },
  {
   "cell_type": "code",
   "execution_count": 13,
   "metadata": {},
   "outputs": [],
   "source": [
    "#for the whole dataframe\n",
    "df['text'] = df['text'].apply(stemSentence)"
   ]
  },
  {
   "cell_type": "markdown",
   "metadata": {},
   "source": [
    "## Only alphabetic words\n",
    "\n",
    "At the end of this step we want a list of words for each review, so that this does not include any numbers or other symbols. This is the bag of words."
   ]
  },
  {
   "cell_type": "code",
   "execution_count": 14,
   "metadata": {},
   "outputs": [],
   "source": [
    "from nltk import word_tokenize\n",
    "\n",
    "def is_alpha_tokenize(text):\n",
    "    words = word_tokenize(text)\n",
    "    words = ' '.join([word for word in words if word.isalpha()])\n",
    "    return(words)"
   ]
  },
  {
   "cell_type": "code",
   "execution_count": 15,
   "metadata": {
    "scrolled": false
   },
   "outputs": [],
   "source": [
    "df['text'] = df['text'].apply(is_alpha_tokenize)"
   ]
  },
  {
   "cell_type": "markdown",
   "metadata": {},
   "source": [
    "## Vectorization \n",
    "\n",
    "Each word in the bag of words gets an integer which will be used to encode the text in the dataframe."
   ]
  },
  {
   "cell_type": "code",
   "execution_count": 16,
   "metadata": {},
   "outputs": [
    {
     "name": "stdout",
     "output_type": "stream",
     "text": [
      "['aa', 'aaa', 'aaaaaaaaaaaahhhhhhhhhhhhhh', 'aaaaaaaargh', 'aaaaaaah', 'aaaaaaahhhhhhggg', 'aaaaah', 'aaaaargh', 'aaaaarrrrrrgggggghhhhhh', 'aaaaatchkah', 'aaaaaw', 'aaaahhhhhhh']\n",
      "['aa', 'aaa', 'aaaaaaaaaaaahhhhhhhhhhhhhh', 'aaaaaaaargh', 'aaaaaaah', 'aaaaaaahhhhhhggg', 'aaaaah', 'aaaaargh', 'aaaaarrrrrrgggggghhhhhh', 'aaaaatchkah', 'aaaaaw', 'aaaahhhhhhh']\n"
     ]
    }
   ],
   "source": [
    "from sklearn.feature_extraction.text import CountVectorizer, TfidfVectorizer\n",
    "from sklearn.model_selection import train_test_split\n",
    "\n",
    "\n",
    "# Create a series to store the labels: y\n",
    "y = df['sentiment']\n",
    "\n",
    "# Create training and test sets\n",
    "X_train, X_test, y_train, y_test = train_test_split(df['text'], y, test_size=0.33, random_state=53)\n",
    "\n",
    "# Initialize a CountVectorizer object: count_vectorizer\n",
    "count_vectorizer = CountVectorizer(stop_words='english')\n",
    "\n",
    "# Transform the training data using only the 'text' column values: count_train \n",
    "count_train = count_vectorizer.fit_transform(X_train)\n",
    "\n",
    "# Transform the test data using only the 'text' column values: count_test \n",
    "count_test = count_vectorizer.transform(X_test)\n",
    "\n",
    "# Print the first 10 features of the count_vectorizer\n",
    "print(count_vectorizer.get_feature_names()[:12])\n",
    "\n",
    "\n",
    "\n",
    "#Tfidf Vectorizer\n",
    "\n",
    "# Initialize a TfidfVectorizer object: tfidf_vectorizer\n",
    "tfidf_vectorizer = TfidfVectorizer(stop_words='english')\n",
    "\n",
    "# Transform the training data using only the 'text' column values: count_train \n",
    "tfidf_train = tfidf_vectorizer.fit_transform(X_train)\n",
    "\n",
    "# Transform the test data using only the 'text' column values: count_test \n",
    "tfidf_test = tfidf_vectorizer.transform(X_test)\n",
    "\n",
    "# Print the first 10 features of the count_vectorizer\n",
    "print(tfidf_vectorizer.get_feature_names()[:12])\n",
    "\n"
   ]
  },
  {
   "cell_type": "markdown",
   "metadata": {},
   "source": [
    "The above cells do not appear to be too useful. I will try again to look at more useful words by picking only the top 20 words with the highest TFIDF score. I will do the same for the top 20 words from the Count Vectorizer."
   ]
  },
  {
   "cell_type": "code",
   "execution_count": 17,
   "metadata": {},
   "outputs": [
    {
     "name": "stdout",
     "output_type": "stream",
     "text": [
      "['charact', 'end', 'film', 'good', 'ha', 'hi', 'just', 'like', 'look', 'make', 'movi', 'onli', 'realli', 'scene', 'stori', 'thi', 'time', 'veri', 'wa', 'watch']\n"
     ]
    }
   ],
   "source": [
    "vect = TfidfVectorizer(stop_words = 'english', max_features=20)\n",
    "top_20_vect=vect.fit_transform(X_train)\n",
    "print(vect.get_feature_names())"
   ]
  },
  {
   "cell_type": "code",
   "execution_count": 18,
   "metadata": {},
   "outputs": [
    {
     "name": "stdout",
     "output_type": "stream",
     "text": [
      "   aa  aaa  aaaaaaaaaaaahhhhhhhhhhhhhh  aaaaaaaargh  aaaaaaah  \\\n",
      "0   0    0                           0            0         0   \n",
      "1   0    0                           0            0         0   \n",
      "2   0    0                           0            0         0   \n",
      "3   0    0                           0            0         0   \n",
      "4   0    0                           0            0         0   \n",
      "\n",
      "   aaaaaaahhhhhhggg  aaaaah  aaaaargh  aaaaarrrrrrgggggghhhhhh  aaaaatchkah  \\\n",
      "0                 0       0         0                        0            0   \n",
      "1                 0       0         0                        0            0   \n",
      "2                 0       0         0                        0            0   \n",
      "3                 0       0         0                        0            0   \n",
      "4                 0       0         0                        0            0   \n",
      "\n",
      "   ...  østbye  úbercrap  über  überannoy  überbab  übertrash  überwoman  \\\n",
      "0  ...       0         0     0          0        0          0          0   \n",
      "1  ...       0         0     0          0        0          0          0   \n",
      "2  ...       0         0     0          0        0          0          0   \n",
      "3  ...       0         0     0          0        0          0          0   \n",
      "4  ...       0         0     0          0        0          0          0   \n",
      "\n",
      "   ünel  ünfaith  þór  \n",
      "0     0        0    0  \n",
      "1     0        0    0  \n",
      "2     0        0    0  \n",
      "3     0        0    0  \n",
      "4     0        0    0  \n",
      "\n",
      "[5 rows x 132462 columns]\n",
      "    aa  aaa  aaaaaaaaaaaahhhhhhhhhhhhhh  aaaaaaaargh  aaaaaaah  \\\n",
      "0  0.0  0.0                         0.0          0.0       0.0   \n",
      "1  0.0  0.0                         0.0          0.0       0.0   \n",
      "2  0.0  0.0                         0.0          0.0       0.0   \n",
      "3  0.0  0.0                         0.0          0.0       0.0   \n",
      "4  0.0  0.0                         0.0          0.0       0.0   \n",
      "\n",
      "   aaaaaaahhhhhhggg  aaaaah  aaaaargh  aaaaarrrrrrgggggghhhhhh  aaaaatchkah  \\\n",
      "0               0.0     0.0       0.0                      0.0          0.0   \n",
      "1               0.0     0.0       0.0                      0.0          0.0   \n",
      "2               0.0     0.0       0.0                      0.0          0.0   \n",
      "3               0.0     0.0       0.0                      0.0          0.0   \n",
      "4               0.0     0.0       0.0                      0.0          0.0   \n",
      "\n",
      "   ...  østbye  úbercrap  über  überannoy  überbab  übertrash  überwoman  \\\n",
      "0  ...     0.0       0.0   0.0        0.0      0.0        0.0        0.0   \n",
      "1  ...     0.0       0.0   0.0        0.0      0.0        0.0        0.0   \n",
      "2  ...     0.0       0.0   0.0        0.0      0.0        0.0        0.0   \n",
      "3  ...     0.0       0.0   0.0        0.0      0.0        0.0        0.0   \n",
      "4  ...     0.0       0.0   0.0        0.0      0.0        0.0        0.0   \n",
      "\n",
      "   ünel  ünfaith  þór  \n",
      "0   0.0      0.0  0.0  \n",
      "1   0.0      0.0  0.0  \n",
      "2   0.0      0.0  0.0  \n",
      "3   0.0      0.0  0.0  \n",
      "4   0.0      0.0  0.0  \n",
      "\n",
      "[5 rows x 132462 columns]\n",
      "set()\n",
      "False\n"
     ]
    }
   ],
   "source": [
    "# Create the CountVectorizer DataFrame: count_df\n",
    "count_df = pd.DataFrame(count_train.A, columns=count_vectorizer.get_feature_names())\n",
    "\n",
    "# Create the TfidfVectorizer DataFrame: tfidf_df\n",
    "tfidf_df = pd.DataFrame(tfidf_train.A, columns=tfidf_vectorizer.get_feature_names())\n",
    "\n",
    "# Print the head of count_df\n",
    "print(count_df.head())\n",
    "\n",
    "# Print the head of tfidf_df\n",
    "print(tfidf_df.head())\n",
    "\n",
    "# Calculate the difference in columns: difference\n",
    "difference = set(count_df.columns) - set(tfidf_df.columns)\n",
    "print(difference)\n",
    "\n",
    "# Check whether the DataFrames are equal\n",
    "print(count_df.equals(tfidf_df))"
   ]
  },
  {
   "cell_type": "code",
   "execution_count": 19,
   "metadata": {},
   "outputs": [
    {
     "name": "stdout",
     "output_type": "stream",
     "text": [
      "['charact', 'end', 'film', 'good', 'ha', 'hi', 'just', 'like', 'look', 'make', 'movi', 'onli', 'realli', 'scene', 'stori', 'thi', 'time', 'veri', 'wa', 'watch']\n"
     ]
    }
   ],
   "source": [
    "vect_c = CountVectorizer(stop_words = 'english', max_features=20)\n",
    "top_20_vect=vect_c.fit_transform(X_train)\n",
    "print(vect_c.get_feature_names())"
   ]
  },
  {
   "cell_type": "markdown",
   "metadata": {},
   "source": [
    "For both the Tfidf vectorizer and the Count vectorizer, the top 20 feature names appear to be the same. Still, the difference comparison shows that while similar, the two vectorizers are not the same, and training the same model on both vectorizers will result in different performance. I am inclined towards using Tfidf as this one downplays (if only slightly) the significance of common words like 'just' 'look' and 'watch'."
   ]
  },
  {
   "cell_type": "markdown",
   "metadata": {},
   "source": [
    "# <h1><center> Exploratory Data Analysis </center></h1> \n",
    "\n",
    "Three things worth visualizing in this dataset include:\n",
    "- Barplot of the Target Variable\n",
    "\n",
    "The objective is to see whether the data is balanced or not. If not balanced, there need to be some steps taken to account for an imbalanced dataset.\n",
    "- Distribution of the number of words in a review\n",
    "\n",
    "This step is important to help decide what the dimensions of the input variable should be. When we feed data into the model, all the reviews must be of a fixed size.\n",
    "- Word cloud of positive and negative reviews\n",
    "\n",
    "Straightforward visualization technique to see what kind of words are often ocurring in each kind of review.\n"
   ]
  },
  {
   "cell_type": "code",
   "execution_count": 20,
   "metadata": {},
   "outputs": [
    {
     "name": "stderr",
     "output_type": "stream",
     "text": [
      "/opt/anaconda3/lib/python3.7/site-packages/statsmodels/tools/_testing.py:19: FutureWarning: pandas.util.testing is deprecated. Use the functions in the public API at pandas.testing instead.\n",
      "  import pandas.util.testing as tm\n"
     ]
    },
    {
     "data": {
      "text/html": [
       "<div>\n",
       "<style scoped>\n",
       "    .dataframe tbody tr th:only-of-type {\n",
       "        vertical-align: middle;\n",
       "    }\n",
       "\n",
       "    .dataframe tbody tr th {\n",
       "        vertical-align: top;\n",
       "    }\n",
       "\n",
       "    .dataframe thead th {\n",
       "        text-align: right;\n",
       "    }\n",
       "</style>\n",
       "<table border=\"1\" class=\"dataframe\">\n",
       "  <thead>\n",
       "    <tr style=\"text-align: right;\">\n",
       "      <th></th>\n",
       "      <th>text</th>\n",
       "      <th>sentiment</th>\n",
       "    </tr>\n",
       "  </thead>\n",
       "  <tbody>\n",
       "    <tr>\n",
       "      <th>0</th>\n",
       "      <td>im not sure whi thi littl film ha been banish ...</td>\n",
       "      <td>1</td>\n",
       "    </tr>\n",
       "    <tr>\n",
       "      <th>1</th>\n",
       "      <td>i complet agre with thi wa the singl most horr...</td>\n",
       "      <td>0</td>\n",
       "    </tr>\n",
       "    <tr>\n",
       "      <th>2</th>\n",
       "      <td>the fulli round charact of the princip role of...</td>\n",
       "      <td>1</td>\n",
       "    </tr>\n",
       "    <tr>\n",
       "      <th>3</th>\n",
       "      <td>major spoiler thi is for peopl who have seen t...</td>\n",
       "      <td>1</td>\n",
       "    </tr>\n",
       "    <tr>\n",
       "      <th>4</th>\n",
       "      <td>fulci experi with sci fi and fail usual in hi ...</td>\n",
       "      <td>0</td>\n",
       "    </tr>\n",
       "  </tbody>\n",
       "</table>\n",
       "</div>"
      ],
      "text/plain": [
       "                                                text  sentiment\n",
       "0  im not sure whi thi littl film ha been banish ...          1\n",
       "1  i complet agre with thi wa the singl most horr...          0\n",
       "2  the fulli round charact of the princip role of...          1\n",
       "3  major spoiler thi is for peopl who have seen t...          1\n",
       "4  fulci experi with sci fi and fail usual in hi ...          0"
      ]
     },
     "execution_count": 20,
     "metadata": {},
     "output_type": "execute_result"
    }
   ],
   "source": [
    "import seaborn as sns\n",
    "df.head()"
   ]
  },
  {
   "cell_type": "code",
   "execution_count": 21,
   "metadata": {},
   "outputs": [
    {
     "data": {
      "image/png": "[encoded data removed]",
      "text/plain": [
       "<Figure size 432x288 with 1 Axes>"
      ]
     },
     "metadata": {
      "needs_background": "light"
     },
     "output_type": "display_data"
    }
   ],
   "source": [
    "ax = sns.countplot(x = \"sentiment\", data = df).set(title=\"Distribution of Sentiment of Reviews\", ylabel= \"Number of Reviews\")"
   ]
  },
  {
   "cell_type": "markdown",
   "metadata": {},
   "source": [
    "As we can see the dataset is balanced. No techniques for imbalanced datasets are needed."
   ]
  },
  {
   "cell_type": "markdown",
   "metadata": {},
   "source": [
    "## Number of Words in a Review"
   ]
  },
  {
   "cell_type": "markdown",
   "metadata": {},
   "source": [
    "It would be interesting to see the distribution of the number of words in a review. Are people writing short reviews? Long reviews?"
   ]
  },
  {
   "cell_type": "code",
   "execution_count": 22,
   "metadata": {},
   "outputs": [],
   "source": [
    "from collections import Counter\n",
    "\n",
    "df['number_of_words'] = df['text'].apply(lambda x: len(x))"
   ]
  },
  {
   "cell_type": "code",
   "execution_count": 23,
   "metadata": {},
   "outputs": [
    {
     "data": {
      "text/html": [
       "<div>\n",
       "<style scoped>\n",
       "    .dataframe tbody tr th:only-of-type {\n",
       "        vertical-align: middle;\n",
       "    }\n",
       "\n",
       "    .dataframe tbody tr th {\n",
       "        vertical-align: top;\n",
       "    }\n",
       "\n",
       "    .dataframe thead th {\n",
       "        text-align: right;\n",
       "    }\n",
       "</style>\n",
       "<table border=\"1\" class=\"dataframe\">\n",
       "  <thead>\n",
       "    <tr style=\"text-align: right;\">\n",
       "      <th></th>\n",
       "      <th>text</th>\n",
       "      <th>sentiment</th>\n",
       "      <th>number_of_words</th>\n",
       "    </tr>\n",
       "  </thead>\n",
       "  <tbody>\n",
       "    <tr>\n",
       "      <th>0</th>\n",
       "      <td>im not sure whi thi littl film ha been banish ...</td>\n",
       "      <td>1</td>\n",
       "      <td>2035</td>\n",
       "    </tr>\n",
       "    <tr>\n",
       "      <th>1</th>\n",
       "      <td>i complet agre with thi wa the singl most horr...</td>\n",
       "      <td>0</td>\n",
       "      <td>668</td>\n",
       "    </tr>\n",
       "    <tr>\n",
       "      <th>2</th>\n",
       "      <td>the fulli round charact of the princip role of...</td>\n",
       "      <td>1</td>\n",
       "      <td>871</td>\n",
       "    </tr>\n",
       "    <tr>\n",
       "      <th>3</th>\n",
       "      <td>major spoiler thi is for peopl who have seen t...</td>\n",
       "      <td>1</td>\n",
       "      <td>3658</td>\n",
       "    </tr>\n",
       "    <tr>\n",
       "      <th>4</th>\n",
       "      <td>fulci experi with sci fi and fail usual in hi ...</td>\n",
       "      <td>0</td>\n",
       "      <td>496</td>\n",
       "    </tr>\n",
       "  </tbody>\n",
       "</table>\n",
       "</div>"
      ],
      "text/plain": [
       "                                                text  sentiment  \\\n",
       "0  im not sure whi thi littl film ha been banish ...          1   \n",
       "1  i complet agre with thi wa the singl most horr...          0   \n",
       "2  the fulli round charact of the princip role of...          1   \n",
       "3  major spoiler thi is for peopl who have seen t...          1   \n",
       "4  fulci experi with sci fi and fail usual in hi ...          0   \n",
       "\n",
       "   number_of_words  \n",
       "0             2035  \n",
       "1              668  \n",
       "2              871  \n",
       "3             3658  \n",
       "4              496  "
      ]
     },
     "execution_count": 23,
     "metadata": {},
     "output_type": "execute_result"
    }
   ],
   "source": [
    "df.head()"
   ]
  },
  {
   "cell_type": "code",
   "execution_count": 24,
   "metadata": {},
   "outputs": [],
   "source": [
    "#!pip install -U seaborn"
   ]
  },
  {
   "cell_type": "code",
   "execution_count": 25,
   "metadata": {},
   "outputs": [],
   "source": [
    "import seaborn as sns"
   ]
  },
  {
   "cell_type": "code",
   "execution_count": 26,
   "metadata": {},
   "outputs": [
    {
     "data": {
      "text/plain": [
       "Text(0, 0.5, 'Number of Reviews')"
      ]
     },
     "execution_count": 26,
     "metadata": {},
     "output_type": "execute_result"
    },
    {
     "data": {
      "image/png": "[encoded data removed]",
      "text/plain": [
       "<Figure size 432x288 with 1 Axes>"
      ]
     },
     "metadata": {
      "needs_background": "light"
     },
     "output_type": "display_data"
    }
   ],
   "source": [
    "from scipy.stats import norm\n",
    "ax = sns.distplot(df[\"number_of_words\"], kde = False)\n",
    "ax.set_title(\"Number of Words in a Review\")\n",
    "ax.set_xlabel(\"Number of Words\")\n",
    "ax.set_ylabel(\"Number of Reviews\")"
   ]
  },
  {
   "cell_type": "code",
   "execution_count": 27,
   "metadata": {},
   "outputs": [
    {
     "data": {
      "text/plain": [
       "1133.5189"
      ]
     },
     "execution_count": 27,
     "metadata": {},
     "output_type": "execute_result"
    }
   ],
   "source": [
    "df['number_of_words'].mean()"
   ]
  },
  {
   "cell_type": "markdown",
   "metadata": {},
   "source": [
    "The number of words seems a little high. This begs the question of whether the mean number of words in a review is different for positive vs. negative ratings."
   ]
  },
  {
   "cell_type": "code",
   "execution_count": 28,
   "metadata": {},
   "outputs": [
    {
     "data": {
      "text/html": [
       "<div>\n",
       "<style scoped>\n",
       "    .dataframe tbody tr th:only-of-type {\n",
       "        vertical-align: middle;\n",
       "    }\n",
       "\n",
       "    .dataframe tbody tr th {\n",
       "        vertical-align: top;\n",
       "    }\n",
       "\n",
       "    .dataframe thead th {\n",
       "        text-align: right;\n",
       "    }\n",
       "</style>\n",
       "<table border=\"1\" class=\"dataframe\">\n",
       "  <thead>\n",
       "    <tr style=\"text-align: right;\">\n",
       "      <th></th>\n",
       "      <th>mean</th>\n",
       "      <th>std</th>\n",
       "    </tr>\n",
       "    <tr>\n",
       "      <th>sentiment</th>\n",
       "      <th></th>\n",
       "      <th></th>\n",
       "    </tr>\n",
       "  </thead>\n",
       "  <tbody>\n",
       "    <tr>\n",
       "      <th>0</th>\n",
       "      <td>1118.92668</td>\n",
       "      <td>816.636686</td>\n",
       "    </tr>\n",
       "    <tr>\n",
       "      <th>1</th>\n",
       "      <td>1148.11112</td>\n",
       "      <td>891.581934</td>\n",
       "    </tr>\n",
       "  </tbody>\n",
       "</table>\n",
       "</div>"
      ],
      "text/plain": [
       "                 mean         std\n",
       "sentiment                        \n",
       "0          1118.92668  816.636686\n",
       "1          1148.11112  891.581934"
      ]
     },
     "execution_count": 28,
     "metadata": {},
     "output_type": "execute_result"
    },
    {
     "data": {
      "image/png": "[encoded data removed]",
      "text/plain": [
       "<Figure size 432x288 with 1 Axes>"
      ]
     },
     "metadata": {
      "needs_background": "light"
     },
     "output_type": "display_data"
    }
   ],
   "source": [
    "df.boxplot(column=['number_of_words'],by = ['sentiment'], rot=90).set_yscale('log')\n",
    "plt.ylabel(\"Number of Words in Review\")\n",
    "plt.title('Number of Words by Sentiment')\n",
    "plt.suptitle('')\n",
    "pd.DataFrame(df.groupby( ['sentiment'])['number_of_words'].describe().loc[:,['mean','std']])"
   ]
  },
  {
   "cell_type": "code",
   "execution_count": 29,
   "metadata": {},
   "outputs": [
    {
     "name": "stdout",
     "output_type": "stream",
     "text": [
      "Mean number of words for positive review:  1148.11112\n",
      "Mean number of words for negative review:  1118.92668\n"
     ]
    }
   ],
   "source": [
    "data1 = df[df['sentiment'] == 1]['number_of_words']\n",
    "data2 = df[df['sentiment'] == 0]['number_of_words']\n",
    "\n",
    "print('Mean number of words for positive review: ',data1.mean())\n",
    "print('Mean number of words for negative review: ',data2.mean())"
   ]
  },
  {
   "cell_type": "markdown",
   "metadata": {},
   "source": [
    "There appears to be a slight difference in that the mean number of words based on sentiment. It is appropriate to see whether this difference is significant with a t-test."
   ]
  },
  {
   "cell_type": "code",
   "execution_count": 30,
   "metadata": {},
   "outputs": [
    {
     "name": "stdout",
     "output_type": "stream",
     "text": [
      "t-statistic: 3.8165884937183763 p-value: 0.00013547246149710947 degrees of freedom: 49998.0\n"
     ]
    }
   ],
   "source": [
    "import statsmodels.stats.weightstats\n",
    "results = statsmodels.stats.weightstats.ttest_ind(data1, data2, alternative='two-sided', usevar='pooled', weights=(None, None), value=0)\n",
    "print('t-statistic: ' + str(results[0]) + ' p-value: ' + str(results[1]) + ' degrees of freedom: ' + str(results[2]))"
   ]
  },
  {
   "cell_type": "markdown",
   "metadata": {},
   "source": [
    "The p-value is < 0.05 so we can reject the null hypothesis that the two means are the same. There is reasonable evidence to assume that they are different, meaning that the number of words could potentially be included as a feature in the model."
   ]
  },
  {
   "cell_type": "markdown",
   "metadata": {},
   "source": [
    "## Make a Word Cloud"
   ]
  },
  {
   "cell_type": "code",
   "execution_count": 31,
   "metadata": {},
   "outputs": [],
   "source": [
    "#!pip install wordcloud"
   ]
  },
  {
   "cell_type": "code",
   "execution_count": 32,
   "metadata": {},
   "outputs": [],
   "source": [
    "#all of the words from all of the reviews are included in this string that makes wordcloud\n",
    "word_cloud_string = df.text.str.cat(sep=' ')"
   ]
  },
  {
   "cell_type": "code",
   "execution_count": 33,
   "metadata": {},
   "outputs": [],
   "source": [
    "import matplotlib.pyplot as pPlot\n",
    "from wordcloud import WordCloud, STOPWORDS\n",
    "import numpy as npy\n",
    "from PIL import Image\n",
    "def create_word_cloud(string):\n",
    "   cloud = WordCloud(background_color = \"white\", max_words = 200, stopwords = set(STOPWORDS))\n",
    "   cloud.generate(string)\n",
    "   cloud.to_file(\"wordCloud.png\")\n",
    "create_word_cloud(word_cloud_string)"
   ]
  },
  {
   "cell_type": "markdown",
   "metadata": {},
   "source": [
    "The first wordcloud mostly yields obvious words that are common in both reviews. It is not surprising that the words movie and film are some of the words that appear the most. Another option is to look at a word cloud composed of the words that are filtered down to the most important features of the dataset, (setting a minimum frequency for the Tfidf vectorizer) and making a wordcloud from this data."
   ]
  },
  {
   "cell_type": "markdown",
   "metadata": {},
   "source": [
    "# <h1><center> Modeling </center></h1>\n",
    "\n",
    "I will be trying out three different models: Logistic Regression, Naive Bayes and Decision Tree Classifier. Then I will be performing model selection on the basis of advantage and disadvantages as well as assumptions met for the tried models. Upon selecting a model, I'll be performing hyperparameter tuning for the chosen one.\n",
    "\n",
    "I will be using F1-score to evaluate the performance of the classification model. The F1-score is the harmonic mean of the precision and recall of the model. Since classifying positive and negative reviews is equally important for my business use case, the F-1 score appears to be a reasonable choice.\n",
    "\n",
    "The Naive Bayes model trains the fastest so I will be using this model to see whether there are major differences in the performance when training on CountVectorizer vs TfidfVectorizer."
   ]
  },
  {
   "cell_type": "markdown",
   "metadata": {},
   "source": [
    "## Naive Bayes"
   ]
  },
  {
   "cell_type": "code",
   "execution_count": 34,
   "metadata": {},
   "outputs": [
    {
     "name": "stdout",
     "output_type": "stream",
     "text": [
      "Training time: 0.12906694412231445s\n",
      "0.8573939393939394\n",
      "[[6993 1175]\n",
      " [1178 7154]]\n",
      "F1-score:  0.8559887386008936\n"
     ]
    }
   ],
   "source": [
    "#naive bayes - TfidfVectorizer\n",
    "from sklearn.naive_bayes import MultinomialNB\n",
    "from sklearn import metrics\n",
    "\n",
    "nb_classifier = MultinomialNB()\n",
    "\n",
    "# Fit the classifier to the training data\n",
    "start = time.time()\n",
    "nb_classifier.fit(tfidf_train, y_train)\n",
    "stop = time.time()\n",
    "time_spent = stop-start\n",
    "print(f\"Training time: {time_spent}s\")\n",
    "\n",
    "# Create the predicted tags: pred\n",
    "pred = nb_classifier.predict(tfidf_test)\n",
    "\n",
    "# Calculate the accuracy score: score\n",
    "score = metrics.accuracy_score(y_test, pred)\n",
    "print(score)\n",
    "\n",
    "# Calculate the confusion matrix: cm\n",
    "cm = metrics.confusion_matrix(y_test, pred, labels=[1, 0])\n",
    "print(cm)\n",
    "\n",
    "from sklearn.metrics import f1_score\n",
    "print('F1-score: ',f1_score(y_test, pred))"
   ]
  },
  {
   "cell_type": "code",
   "execution_count": 35,
   "metadata": {},
   "outputs": [
    {
     "name": "stdout",
     "output_type": "stream",
     "text": [
      "Training time: 0.22095727920532227s\n",
      "0.8473333333333334\n",
      "[[6777 1391]\n",
      " [1128 7204]]\n",
      "F1-score:  0.8432775461954832\n"
     ]
    }
   ],
   "source": [
    "#naive bayes - CountVectorizer\n",
    "from sklearn.naive_bayes import MultinomialNB\n",
    "from sklearn import metrics\n",
    "\n",
    "nb_classifier = MultinomialNB()\n",
    "\n",
    "# Fit the classifier to the training data\n",
    "start = time.time()\n",
    "nb_classifier.fit(count_train, y_train)\n",
    "stop = time.time()\n",
    "time_spent = stop-start\n",
    "print(f\"Training time: {time_spent}s\")\n",
    "\n",
    "# Create the predicted tags: pred\n",
    "pred = nb_classifier.predict(count_test)\n",
    "\n",
    "# Calculate the accuracy score: score\n",
    "score = metrics.accuracy_score(y_test, pred)\n",
    "print(score)\n",
    "\n",
    "# Calculate the confusion matrix: cm\n",
    "cm = metrics.confusion_matrix(y_test, pred, labels=[1, 0])\n",
    "print(cm)\n",
    "\n",
    "from sklearn.metrics import f1_score\n",
    "print('F1-score: ',f1_score(y_test, pred))"
   ]
  },
  {
   "cell_type": "markdown",
   "metadata": {},
   "source": [
    "After looking at a few runs, the accuracy is slightly higher when using the TfidfVectorizer. The training time is slightly lower when using the CountVectorizer. I chose to use the TfidfVectorizer going forward with the other models due to the slight improvement in performance."
   ]
  },
  {
   "cell_type": "markdown",
   "metadata": {},
   "source": [
    "## Logistic regression model\n"
   ]
  },
  {
   "cell_type": "code",
   "execution_count": 36,
   "metadata": {},
   "outputs": [
    {
     "name": "stderr",
     "output_type": "stream",
     "text": [
      "/opt/anaconda3/lib/python3.7/site-packages/sklearn/linear_model/logistic.py:432: FutureWarning: Default solver will be changed to 'lbfgs' in 0.22. Specify a solver to silence this warning.\n",
      "  FutureWarning)\n"
     ]
    },
    {
     "name": "stdout",
     "output_type": "stream",
     "text": [
      "Training time: 3.150567054748535s\n",
      "0.8862424242424243\n",
      "[[7376  792]\n",
      " [1085 7247]]\n",
      "F1-score:  0.8871249022791509\n"
     ]
    }
   ],
   "source": [
    "from sklearn.linear_model import LogisticRegression\n",
    "logreg=LogisticRegression() \n",
    "\n",
    "start = time.time()\n",
    "logreg.fit(tfidf_train, y_train)\n",
    "stop = time.time()\n",
    "time_spent = stop-start\n",
    "print(f\"Training time: {time_spent}s\")\n",
    "\n",
    "# Create the predicted tags: pred\n",
    "pred = logreg.predict(tfidf_test)\n",
    "\n",
    "# Calculate the accuracy score: score\n",
    "score = metrics.accuracy_score(y_test, pred)\n",
    "print(score)\n",
    "\n",
    "# Calculate the confusion matrix: cm\n",
    "cm = metrics.confusion_matrix(y_test, pred, labels=[1, 0])\n",
    "print(cm)\n",
    "\n",
    "from sklearn.metrics import f1_score\n",
    "print('F1-score: ',f1_score(y_test, pred))"
   ]
  },
  {
   "cell_type": "markdown",
   "metadata": {},
   "source": [
    "The performance of the logistic regression model is rather good. The training time is also short. A logistic regression tends to perform well when the X features are not correlated or highly nonlinear. This largely makes sense as we can assume the distinct words in text are not correlated with each other."
   ]
  },
  {
   "cell_type": "markdown",
   "metadata": {},
   "source": [
    "## Decision Tree"
   ]
  },
  {
   "cell_type": "code",
   "execution_count": 37,
   "metadata": {},
   "outputs": [
    {
     "name": "stdout",
     "output_type": "stream",
     "text": [
      "Training time: 130.47233271598816s\n",
      "0.716\n",
      "[[5823 2345]\n",
      " [2341 5991]]\n",
      "F1-score:  0.713078618662748\n"
     ]
    }
   ],
   "source": [
    "from sklearn.tree import DecisionTreeClassifier\n",
    "desc_tree=DecisionTreeClassifier()\n",
    "\n",
    "start = time.time()\n",
    "desc_tree.fit(tfidf_train, y_train)\n",
    "stop = time.time()\n",
    "time_spent = stop-start\n",
    "print(f\"Training time: {time_spent}s\")\n",
    "\n",
    "# Create the predicted tags: pred\n",
    "pred = desc_tree.predict(tfidf_test)\n",
    "\n",
    "# Calculate the accuracy score: score\n",
    "score = metrics.accuracy_score(y_test, pred)\n",
    "print(score)\n",
    "\n",
    "# Calculate the confusion matrix: cm\n",
    "cm = metrics.confusion_matrix(y_test, pred, labels=[1, 0])\n",
    "print(cm)\n",
    "\n",
    "from sklearn.metrics import f1_score\n",
    "print('F1-score: ',f1_score(y_test, pred))"
   ]
  },
  {
   "cell_type": "markdown",
   "metadata": {},
   "source": [
    "It can be seen that the decision tree model performs the worst out of the three. It is possible to improve this performance with some hyperparameter tuning. In order to check whether the model is overfitting or underfitting, it is advisable to check the performance of the model on the training set."
   ]
  },
  {
   "cell_type": "code",
   "execution_count": 38,
   "metadata": {},
   "outputs": [
    {
     "name": "stdout",
     "output_type": "stream",
     "text": [
      "Training time: 114.27309393882751s\n",
      "1.0\n",
      "[[16832     0]\n",
      " [    0 16668]]\n"
     ]
    }
   ],
   "source": [
    "start = time.time()\n",
    "desc_tree.fit(tfidf_train, y_train)\n",
    "stop = time.time()\n",
    "time_spent = stop-start\n",
    "print(f\"Training time: {time_spent}s\")\n",
    "\n",
    "# Create the predicted tags: pred\n",
    "pred = desc_tree.predict(tfidf_train)\n",
    "\n",
    "# Calculate the accuracy score: score\n",
    "score = metrics.accuracy_score(y_train, pred)\n",
    "print(score)\n",
    "\n",
    "# Calculate the confusion matrix: cm\n",
    "cm = metrics.confusion_matrix(y_train, pred, labels=[1, 0])\n",
    "print(cm)"
   ]
  },
  {
   "cell_type": "markdown",
   "metadata": {},
   "source": [
    "Fitting the decision tree model to the training set results in an accuracy score of 1.0. It becomes clear then that the decision tree model is overfitting. A way to reduce overfitting would be to 'prune' the decision tree by reducing the max_depth of the tree. Still, I am probably not interested in using this model."
   ]
  },
  {
   "cell_type": "markdown",
   "metadata": {},
   "source": [
    "## Model Selection"
   ]
  },
  {
   "cell_type": "markdown",
   "metadata": {},
   "source": [
    "|  | Decision Tree | Logistic Regression | Naive Bayes |\n",
    "| --- | --- | --- | --- |\n",
    "| Advantages |  Does not require normalization | Simple interpretation | Efficient time and space complexity |\n",
    "| Disadvantages | Prone to overfitting | Independent variables must be linearly related to log odds| Only works well when features are independent |\n",
    "| Accuracy | 0.709 | 0.885| 0.852 |\n",
    "| F1-Score | 0.715 | 0.887 | 0.853 |\n",
    "| Training Time | 157.19s |  5.46s| 0.31s |\n"
   ]
  },
  {
   "cell_type": "markdown",
   "metadata": {},
   "source": [
    "Based on the above advantages/disadvantages both Naive Bayes and Logistic Regression seem to be good candidates for the final model for deployment.\n",
    "\n",
    "Logistic regression is not restricted as linear regression as fewer assumptions need to be checked. It does not require a linear relationship between the dependent and independent variables, does not require the error terms to be normally distributed and does not require homoscedasticity. It does however require independence, absence of multicollinearity, and the linearity of independent variables and log odds. For the dataset I'm currently using, these do appear to be met. If all of the values our scaled (in our example they are) we can also directly look at the output of the ols linear regression model and look at the coefficients to judge feature importance based on the size of their coefficients.\n",
    "\n",
    "Naive Bayes is also a competitive choice for sentiment analysis with text. It uses conditional probability distributions to train on the training set and is able to do so very efficiently in terms of time and space. However, it is not as easily interpretable as linear regression. To use this algorithm, it is also very important for the features to be completely independent. \n",
    "\n",
    "Given the above advantages and disadvantages of both algorithms, I chose Naive Bayes as the best model choice for this problem use case."
   ]
  },
  {
   "cell_type": "markdown",
   "metadata": {},
   "source": [
    "## Hyperparameter Tuning"
   ]
  },
  {
   "cell_type": "markdown",
   "metadata": {},
   "source": [
    "There aren't too many hyperparameters to tune with a Naive Bayes model. Two main ones include the number of priors the var_smoothing. However, due to time constraints and the overal satisfactory performance of the model, I was not able to dive into this topic in depth. The overal code for tuning hyperparameters if so desired would look approximately like this:"
   ]
  },
  {
   "cell_type": "code",
   "execution_count": null,
   "metadata": {},
   "outputs": [],
   "source": [
    "from sklearn.model_selection import RepeatedStratifiedKFold\n",
    "cv_method = RepeatedStratifiedKFold(n_splits=3,  n_repeats=1, random_state=999)\n",
    "\n",
    "from sklearn.preprocessing import PowerTransformer\n",
    "params_NB = {'var_smoothing': np.logspace(0,1, num=100)}\n",
    "\n",
    "from sklearn.model_selection import GridSearchCV\n",
    "gs_NB = GridSearchCV(estimator=nb_classifier, param_grid=params_NB, cv=cv_method,verbose=1,scoring='accuracy')\n",
    "Data_transformed = PowerTransformer().fit_transform(tfidf_test.toarray())\n",
    "gs_NB.fit(Data_transformed, y_test);\n",
    "\n",
    "results_NB = pd.DataFrame(gs_NB.cv_results_['params'])\n",
    "\n",
    "results_NB['test_score'] = gs_NB.cv_results_['mean_test_score']\n",
    "\n",
    "# predict the target on the test dataset\n",
    "predict_test = gs_NB.predict(Data_transformed)\n",
    "# Accuracy Score on test dataset\n",
    "accuracy_test = accuracy_score(y_test,predict_test)\n",
    "print('accuracy_score on test dataset : ', accuracy_test)"
   ]
  },
  {
   "cell_type": "markdown",
   "metadata": {},
   "source": [
    "### Shortcomings and Limitations of the Analysis"
   ]
  },
  {
   "cell_type": "markdown",
   "metadata": {},
   "source": [
    "Ultimately the project was successful in that I was able to build a classification model that was able to predict whether a movie review was positive or negative based on the text description. Some areas of improvement that could be addressed if this project were to be worked on further include:\n",
    "\n",
    "\n",
    "- More extensive data preprocessing: This is the biggest one. There is room for improvement in preprocessing of the data. The dimensions of the dataset could be reduced further to exclude words that are common across any text. Also, instead of stemming, lemmatization could be applied to differentiate between word tenses. There is also a room for filtering out onomatopoeia and other alphabetic nonsense that does not help distinguish sentiment.\n",
    "\n",
    "- Number of words and number of unique words in a review could be further explored, and the dataset could be modified to include length of the review as a possible additional feature.\n",
    "\n",
    "- There are many types of Naive Bayes models that can be explored: Gaussian, Multinomial and Bernoulli. After trying out these different types of models, a more expansive GridSearch hyperparameter tuning endeavour could take place."
   ]
  }
 ],
 "metadata": {
  "kernelspec": {
   "display_name": "Python 3",
   "language": "python",
   "name": "python3"
  },
  "language_info": {
   "codemirror_mode": {
    "name": "ipython",
    "version": 3
   },
   "file_extension": ".py",
   "mimetype": "text/x-python",
   "name": "python",
   "nbconvert_exporter": "python",
   "pygments_lexer": "ipython3",
   "version": "3.7.4"
  }
 },
 "nbformat": 4,
 "nbformat_minor": 2
}
